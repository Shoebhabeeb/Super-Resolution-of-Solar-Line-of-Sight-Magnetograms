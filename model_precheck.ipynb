{
 "cells": [
  {
   "cell_type": "code",
   "execution_count": 5,
   "metadata": {},
   "outputs": [],
   "source": [
    "import sys\n",
    "import time\n",
    "\n",
    "TOTAL_BAR_LENGTH = 80\n",
    "LAST_T = time.time()\n",
    "BEGIN_T = LAST_T\n",
    "\n",
    "\n",
    "def progress_bar(current, total, msg=None):\n",
    "    global LAST_T, BEGIN_T\n",
    "    if current == 0:\n",
    "        BEGIN_T = time.time()  # Reset for new bar.\n",
    "\n",
    "    current_len = int(TOTAL_BAR_LENGTH * (current + 1) / total)\n",
    "    rest_len = int(TOTAL_BAR_LENGTH - current_len) - 1\n",
    "\n",
    "    sys.stdout.write(' %d/%d' % (current + 1, total))\n",
    "    sys.stdout.write(' [')\n",
    "    for i in range(current_len):\n",
    "        sys.stdout.write('=')\n",
    "    sys.stdout.write('>')\n",
    "    for i in range(rest_len):\n",
    "        sys.stdout.write('.')\n",
    "    sys.stdout.write(']')\n",
    "\n",
    "    current_time = time.time()\n",
    "    step_time = current_time - LAST_T\n",
    "    LAST_T = current_time\n",
    "    total_time = current_time - BEGIN_T\n",
    "\n",
    "    time_used = '  Step: %s' % format_time(step_time)\n",
    "    time_used += ' | Tot: %s' % format_time(total_time)\n",
    "    if msg:\n",
    "        time_used += ' | ' + msg\n",
    "\n",
    "    msg = time_used\n",
    "    sys.stdout.write(msg)\n",
    "\n",
    "    if current < total - 1:\n",
    "        sys.stdout.write('\\r')\n",
    "    else:\n",
    "        sys.stdout.write('\\n')\n",
    "    sys.stdout.flush()\n",
    "\n",
    "\n",
    "# return the formatted time\n",
    "def format_time(seconds):\n",
    "    days = int(seconds / 3600/24)\n",
    "    seconds = seconds - days*3600*24\n",
    "    hours = int(seconds / 3600)\n",
    "    seconds = seconds - hours*3600\n",
    "    minutes = int(seconds / 60)\n",
    "    seconds = seconds - minutes*60\n",
    "    seconds_final = int(seconds)\n",
    "    seconds = seconds - seconds_final\n",
    "    millis = int(seconds*1000)\n",
    "\n",
    "    output = ''\n",
    "    time_index = 1\n",
    "    if days > 0:\n",
    "        output += str(days) + 'D'\n",
    "        time_index += 1\n",
    "    if hours > 0 and time_index <= 2:\n",
    "        output += str(hours) + 'h'\n",
    "        time_index += 1\n",
    "    if minutes > 0 and time_index <= 2:\n",
    "        output += str(minutes) + 'm'\n",
    "        time_index += 1\n",
    "    if seconds_final > 0 and time_index <= 2:\n",
    "        output += str(seconds_final) + 's'\n",
    "        time_index += 1\n",
    "    if millis > 0 and time_index <= 2:\n",
    "        output += str(millis) + 'ms'\n",
    "        time_index += 1\n",
    "    if output == '':\n",
    "        output = '0ms'\n",
    "    return output"
   ]
  },
  {
   "cell_type": "code",
   "execution_count": 6,
   "metadata": {},
   "outputs": [],
   "source": [
    "from torch.utils import data as data\n",
    "from torchvision import transforms\n",
    "from torchvision.transforms import Compose, CenterCrop, ToTensor, Resize\n",
    "import os\n",
    "from astropy.io import fits\n",
    "from skimage.transform import resize\n",
    "import numpy as np\n",
    "\n",
    "IMG_EXTENSIONS = [\".fits\"]\n",
    "\n",
    "def input_transform():\n",
    "    return Compose([\n",
    "        transforms.ToTensor(),\n",
    "        transforms.Normalize((0,), (1500,))\n",
    "    ])\n",
    "\n",
    "def target_transform():\n",
    "    return Compose([\n",
    "        transforms.ToTensor(),\n",
    "        transforms.Normalize((0,), (1500,))\n",
    "    ])\n",
    "\n",
    "def is_image_file(filename):\n",
    "    \"\"\"\n",
    "    Helper Function to determine whether a file is an image file or not\n",
    "    :param filename: the filename containing a possible image\n",
    "    :return: True if file is image file, False otherwise\n",
    "    \"\"\"\n",
    "    return any(filename.endswith(extension) for extension in IMG_EXTENSIONS)\n",
    "\n",
    "\n",
    "def make_dataset(dir):\n",
    "    \"\"\"\n",
    "    Helper Function to make a dataset containing all images in a certain directory\n",
    "    :param dir: the directory containing the dataset\n",
    "    :return: images: list of image paths\n",
    "    \"\"\"\n",
    "    images = []\n",
    "    assert os.path.isdir(dir), '%s is not a valid directory' % dir\n",
    "\n",
    "    for root, _, fnames in sorted(os.walk(dir)):\n",
    "        for fname in fnames:\n",
    "            if is_image_file(fname):\n",
    "                path = os.path.join(root, fname)\n",
    "                images.append(path)\n",
    "\n",
    "    return images\n",
    "\n",
    "\n",
    "def default_fits_loader(file_name: str, img_size: tuple):\n",
    "    file = fits.open(file_name)\n",
    "    if np.all(file[0].data) == None:\n",
    "        _data = file[1].data\n",
    "    else:\n",
    "        _data = file[0].data\n",
    "#    _data[_data != _data] = 0 \n",
    "    _data = resize(_data, img_size)\n",
    "    \n",
    "    # _data = fits.get_data(file_name).resize(img_size)\n",
    "\n",
    "    # add channels\n",
    "    if len(_data.shape) < 3:\n",
    "        _data = _data.reshape((*_data.shape,1))\n",
    "    # TODO: Insert Custom Label Loader\n",
    "    _target = _data\n",
    "#    print(np.nanmax(_data))\n",
    "    return _data, _target\n",
    "\n",
    "\n",
    "class FITSDataset(data.Dataset):\n",
    "    def __init__(self, data_path, input_transform, target_transform, img_size):\n",
    "        self.data_path = data_path\n",
    "        self.input_transform = input_transform\n",
    "        self.target_transform = target_transform\n",
    "        self.img_size = img_size\n",
    "\n",
    "        self.img_files = make_dataset(data_path)\n",
    "\n",
    "    def __getitem__(self, index):\n",
    "        _img, _target = default_fits_loader(self.img_files[index], self.img_size)\n",
    "        _img = np.clip(_img,-1500,1500)\n",
    "        _img = _img[1024:3072, 1024:3072]\n",
    "#        print(np.nanmax(_img))\n",
    "        _target = np.clip(_target,-1500,1500)\n",
    "        _target = _target[1024:3072, 1024:3072]\n",
    "#        print(np.nanmax(_target))\n",
    "        _img = resize(_img, (1024, 1024),preserve_range=True,anti_aliasing=True)\n",
    "#        print(np.nanmax(_img))\n",
    "#        print(np.nanmin(_img))\n",
    "        if self.input_transform:\n",
    "            _img = self.input_transform(_img)\n",
    "            _img[_img != _img] = -1\n",
    "        if self.target_transform:\n",
    "            _target = self.target_transform(_target)\n",
    "            _target[_target != _target] = -1\n",
    "        _data = (_img, _target)\n",
    "        \n",
    "        return _data\n",
    "\n",
    "    def __len__(self):\n",
    "        return len(self.img_files)\n",
    "\n",
    "scale = 4\n",
    "train_dataset = FITSDataset(\"/home/mhabeeb2/data/HMI.fits/train\", input_transform(),target_transform(),(1024*scale,1024*scale))\n",
    "test_dataset = FITSDataset(\"/home/mhabeeb2/data/HMI.fits/test\", input_transform(),target_transform(),(1024*scale,1024*scale))\n",
    "training_data_loader = data.DataLoader(train_dataset, num_workers=2, batch_size=4, shuffle=True)\n",
    "testing_data_loader = data.DataLoader(test_dataset, num_workers=2, batch_size=4, shuffle=False)"
   ]
  },
  {
   "cell_type": "code",
   "execution_count": 7,
   "metadata": {},
   "outputs": [
    {
     "name": "stdout",
     "output_type": "stream",
     "text": [
      "torch.Size([4, 1, 1024, 1024])\n",
      "torch.Size([4, 1, 2048, 2048])\n"
     ]
    }
   ],
   "source": [
    "for batch_num, (data, target) in enumerate(training_data_loader):\n",
    "    print(data.shape)\n",
    "    print(target.shape)\n",
    "#     print(data)\n",
    "#     print(np.nanmin(data))\n",
    "#     print(np.nanmax(data))\n",
    "    break\n",
    "# for batch_num, (data, target) in enumerate(testing_data_loader):\n",
    "#     print(data.shape)\n",
    "#     print(target.shape)\n",
    "#     print(np.nanmax(data))\n",
    "#     break"
   ]
  },
  {
   "cell_type": "code",
   "execution_count": 51,
   "metadata": {},
   "outputs": [
    {
     "ename": "SyntaxError",
     "evalue": "can't assign to function call (<ipython-input-51-6b38d6716323>, line 10)",
     "output_type": "error",
     "traceback": [
      "\u001b[0;36m  File \u001b[0;32m\"<ipython-input-51-6b38d6716323>\"\u001b[0;36m, line \u001b[0;32m10\u001b[0m\n\u001b[0;31m    model.parameters() = nn.ModuleList(nn.Linear(h1,h2) for h1,h2 in zip(h, h[1:]))\u001b[0m\n\u001b[0m                                                                                   ^\u001b[0m\n\u001b[0;31mSyntaxError\u001b[0m\u001b[0;31m:\u001b[0m can't assign to function call\n"
     ]
    }
   ],
   "source": [
    "from torch.utils.data import DataLoader\n",
    "import torch\n",
    "from astropy.io import fits\n",
    "import numpy as np\n",
    "import math\n",
    "from math import log10\n",
    "from SRCNN import Net\n",
    "#from ResNet import Net\n",
    "\n",
    "#SRCNN\n",
    "#model = Net(2)\n",
    "\n",
    "#Residual Net\n",
    "#model = Net(num_channels=1, upscale_factor=2, base_channel=64, num_residuals=4)\n",
    "\n",
    "optimizer = torch.optim.Adam(model.parameters(), lr=0.001)\n",
    "#model.weight_init(mean=0.0, std=0.01)\n",
    "criterion = torch.nn.MSELoss()\n",
    "\n",
    "def train():\n",
    "    model.train()\n",
    "    train_loss = 0\n",
    "    for batch_num, (data, target) in enumerate(training_data_loader):\n",
    "        optimizer.zero_grad()\n",
    "        loss = criterion(model(data.float()), target.float())\n",
    "        train_loss += loss.item()\n",
    "        loss.backward()\n",
    "        optimizer.step()\n",
    "        progress_bar(batch_num, len(training_data_loader), 'Loss: %.4f' % (train_loss / (batch_num + 1)))\n",
    "\n",
    "    print(\"    Average Loss: {:.4f}\".format(train_loss / len(training_data_loader)))\n",
    "\n",
    "def test():\n",
    "    model.eval()\n",
    "    avg_psnr = 0\n",
    "\n",
    "    with torch.no_grad():\n",
    "        for batch_num, (data, target) in enumerate(testing_data_loader):\n",
    "            prediction = model(data.float())\n",
    "            mse = criterion(prediction, target.float())\n",
    "            psnr = 10 * log10(1 / mse.item())\n",
    "            avg_psnr += psnr\n",
    "            progress_bar(batch_num, len(testing_data_loader), 'PSNR: %.4f' % (avg_psnr / (batch_num + 1)))\n",
    "\n",
    "    print(\"    Average PSNR: {:.4f} dB\".format(avg_psnr / len(testing_data_loader)))\n",
    "for epoch in range(1, 2):\n",
    "    train()\n",
    "    test()"
   ]
  },
  {
   "cell_type": "markdown",
   "metadata": {},
   "source": [
    "# Super Resolution"
   ]
  },
  {
   "cell_type": "code",
   "execution_count": 8,
   "metadata": {},
   "outputs": [],
   "source": [
    "from torch.utils import data as data\n",
    "def is_image_file(filename):\n",
    "    return any(filename.endswith(extension) for extension in [\".png\", \".jpg\", \".jpeg\", \".fits\"])\n",
    "    def __len__(self):\n",
    "        return len(self.image_filenames)\n",
    "class SuperResolve(data.Dataset):\n",
    "    def __init__(self, data_path, input_transform):\n",
    "        self.data_path = data_path\n",
    "        self.input_transform = input_transform\n",
    "        self.img_files = make_dataset(data_path)\n",
    "        \n",
    "    def __getitem__(self, index):\n",
    "        _img, _target = default_fits_loader(self.img_files[index], (1024,1024))\n",
    "#        _img = _img[1024:3072, 1024:3072]\n",
    "        _img = np.clip(_img,-1500,1500)\n",
    "        if self.input_transform:\n",
    "            _img = self.input_transform(_img)\n",
    "            _img[_img != _img] = -1\n",
    "        return _img\n",
    "    def __len__(self):\n",
    "        return len(self.img_files)    "
   ]
  },
  {
   "cell_type": "markdown",
   "metadata": {},
   "source": [
    "# BICUBIC INTERPOLATION"
   ]
  },
  {
   "cell_type": "code",
   "execution_count": 9,
   "metadata": {},
   "outputs": [
    {
     "name": "stdout",
     "output_type": "stream",
     "text": [
      "torch.Size([2, 1, 1024, 1024])\n",
      "tensor(0.6021, dtype=torch.float64)\n",
      "torch.Size([2, 1, 512, 512])\n"
     ]
    },
    {
     "name": "stderr",
     "output_type": "stream",
     "text": [
      "/home/mhabeeb2/miniconda3/lib/python3.7/site-packages/torch/nn/functional.py:2973: UserWarning: Default upsampling behavior when mode=bicubic is changed to align_corners=False since 0.4.0. Please specify align_corners=True if the old behavior is desired. See the documentation of nn.Upsample for details.\n",
      "  \"See the documentation of nn.Upsample for details.\".format(mode))\n",
      "/home/mhabeeb2/miniconda3/lib/python3.7/site-packages/torch/nn/functional.py:2854: UserWarning: The default behavior for interpolate/upsample with float scale_factor will change in 1.6.0 to align with other frameworks/libraries, and use scale_factor directly, instead of relying on the computed output size. If you wish to keep the old behavior, please set recompute_scale_factor=True. See the documentation of nn.Upsample for details. \n",
      "  warnings.warn(\"The default behavior for interpolate/upsample with float scale_factor will change \"\n"
     ]
    }
   ],
   "source": [
    "import torch.nn as nn\n",
    "import torch.nn.functional as F\n",
    "m = nn.Upsample(scale_factor=0.5, mode='bicubic')\n",
    "validation_dataset = \"/home/mhabeeb2/SR/examples/super_resolution/HMI.fits/train\"\n",
    "validation_dataset = SuperResolve(validation_dataset, input_transform())\n",
    "validation_data_loader = data.DataLoader(validation_dataset, batch_size=2)\n",
    "for i, new in enumerate(validation_data_loader):\n",
    "    print(new.shape)\n",
    "    print(new.max())\n",
    "    break\n",
    "out_dd = m(new)\n",
    "print(out_dd.shape)"
   ]
  },
  {
   "cell_type": "code",
   "execution_count": 10,
   "metadata": {},
   "outputs": [],
   "source": [
    "import math\n",
    "import numbers\n",
    "import torch\n",
    "from torch import nn\n",
    "from torch.nn import functional as F\n",
    "\n",
    "class GaussianSmoothing(nn.Module):\n",
    "    \"\"\"\n",
    "    Apply gaussian smoothing on a\n",
    "    1d, 2d or 3d tensor. Filtering is performed seperately for each channel\n",
    "    in the input using a depthwise convolution.\n",
    "    Arguments:\n",
    "        channels (int, sequence): Number of channels of the input tensors. Output will\n",
    "            have this number of channels as well.\n",
    "        kernel_size (int, sequence): Size of the gaussian kernel.\n",
    "        sigma (float, sequence): Standard deviation of the gaussian kernel.\n",
    "        dim (int, optional): The number of dimensions of the data.\n",
    "            Default value is 2 (spatial).\n",
    "    \"\"\"\n",
    "    def __init__(self, channels, kernel_size, sigma, dim=2):\n",
    "        super(GaussianSmoothing, self).__init__()\n",
    "        if isinstance(kernel_size, numbers.Number):\n",
    "            kernel_size = [kernel_size] * dim\n",
    "        if isinstance(sigma, numbers.Number):\n",
    "            sigma = [sigma] * dim\n",
    "\n",
    "        # The gaussian kernel is the product of the\n",
    "        # gaussian function of each dimension.\n",
    "        kernel = 1\n",
    "        meshgrids = torch.meshgrid(\n",
    "            [\n",
    "                torch.arange(size, dtype=torch.float32)\n",
    "                for size in kernel_size\n",
    "            ]\n",
    "        )\n",
    "        for size, std, mgrid in zip(kernel_size, sigma, meshgrids):\n",
    "            mean = (size - 1) / 2\n",
    "            kernel *= 1 / (std * math.sqrt(2 * math.pi)) * \\\n",
    "                      torch.exp(-((mgrid - mean) / std) ** 2 / 2)\n",
    "\n",
    "        # Make sure sum of values in gaussian kernel equals 1.\n",
    "        kernel = kernel / torch.sum(kernel)\n",
    "\n",
    "        # Reshape to depthwise convolutional weight\n",
    "        kernel = kernel.view(1, 1, *kernel.size())\n",
    "        kernel = kernel.repeat(channels, *[1] * (kernel.dim() - 1))\n",
    "\n",
    "        self.register_buffer('weight', kernel)\n",
    "        self.groups = channels\n",
    "\n",
    "        if dim == 1:\n",
    "            self.conv = F.conv1d\n",
    "        elif dim == 2:\n",
    "            self.conv = F.conv2d\n",
    "        elif dim == 3:\n",
    "            self.conv = F.conv3d\n",
    "        else:\n",
    "            raise RuntimeError(\n",
    "                'Only 1, 2 and 3 dimensions are supported. Received {}.'.format(dim)\n",
    "            )\n",
    "\n",
    "    def forward(self, input):\n",
    "        \"\"\"\n",
    "        Apply gaussian filter to input.\n",
    "        Arguments:\n",
    "            input (torch.Tensor): Input to apply gaussian filter on.\n",
    "        Returns:\n",
    "            filtered (torch.Tensor): Filtered output.\n",
    "        \"\"\"\n",
    "        return self.conv(input, weight=self.weight, groups=self.groups)\n",
    "\n",
    "\n",
    "smoothing = GaussianSmoothing(1, 3, 1)"
   ]
  },
  {
   "cell_type": "code",
   "execution_count": 11,
   "metadata": {},
   "outputs": [
    {
     "data": {
      "text/plain": [
       "torch.Size([2, 1, 512, 512])"
      ]
     },
     "execution_count": 11,
     "metadata": {},
     "output_type": "execute_result"
    }
   ],
   "source": [
    "import torch.nn.functional as F\n",
    "i1 = smoothing(new.float())\n",
    "out = F.interpolate(i1, size=512)\n",
    "out.shape"
   ]
  },
  {
   "cell_type": "code",
   "execution_count": 12,
   "metadata": {
    "scrolled": true
   },
   "outputs": [
    {
     "name": "stdout",
     "output_type": "stream",
     "text": [
      "torch.Size([2, 1, 1024, 1024])\n"
     ]
    },
    {
     "name": "stderr",
     "output_type": "stream",
     "text": [
      "/home/mhabeeb2/miniconda3/lib/python3.7/site-packages/torch/nn/functional.py:2973: UserWarning: Default upsampling behavior when mode=bilinear is changed to align_corners=False since 0.4.0. Please specify align_corners=True if the old behavior is desired. See the documentation of nn.Upsample for details.\n",
      "  \"See the documentation of nn.Upsample for details.\".format(mode))\n"
     ]
    },
    {
     "data": {
      "text/plain": [
       "tensor(-1.)"
      ]
     },
     "execution_count": 12,
     "metadata": {},
     "output_type": "execute_result"
    }
   ],
   "source": [
    "import torch.nn as nn\n",
    "import torch.nn.functional as F\n",
    "m = nn.Upsample(scale_factor=2, mode='bilinear')\n",
    "out_nn = m(out)\n",
    "print(out_nn.shape)\n",
    "out_nn.min()"
   ]
  },
  {
   "cell_type": "code",
   "execution_count": 13,
   "metadata": {},
   "outputs": [
    {
     "data": {
      "text/plain": [
       "26.981695812886315"
      ]
     },
     "execution_count": 13,
     "metadata": {},
     "output_type": "execute_result"
    }
   ],
   "source": [
    "from math import log10\n",
    "criterion = torch.nn.MSELoss()\n",
    "mse = criterion(out_nn, new)\n",
    "psnr = 10 * log10(1 / mse.item())\n",
    "psnr"
   ]
  },
  {
   "cell_type": "markdown",
   "metadata": {},
   "source": [
    "# Super Resolving with initial Model"
   ]
  },
  {
   "cell_type": "code",
   "execution_count": 20,
   "metadata": {},
   "outputs": [
    {
     "name": "stdout",
     "output_type": "stream",
     "text": [
      "tensor(-1.)\n",
      "tensor(0.5425)\n"
     ]
    },
    {
     "ename": "NameError",
     "evalue": "name 'model' is not defined",
     "output_type": "error",
     "traceback": [
      "\u001b[0;31m---------------------------------------------------------------------------\u001b[0m",
      "\u001b[0;31mNameError\u001b[0m                                 Traceback (most recent call last)",
      "\u001b[0;32m<ipython-input-20-29f59bdd1e8a>\u001b[0m in \u001b[0;36m<module>\u001b[0;34m\u001b[0m\n\u001b[1;32m     15\u001b[0m     \u001b[0mprint\u001b[0m\u001b[0;34m(\u001b[0m\u001b[0ml1\u001b[0m\u001b[0;34m.\u001b[0m\u001b[0mmin\u001b[0m\u001b[0;34m(\u001b[0m\u001b[0;34m)\u001b[0m\u001b[0;34m)\u001b[0m\u001b[0;34m\u001b[0m\u001b[0;34m\u001b[0m\u001b[0m\n\u001b[1;32m     16\u001b[0m     \u001b[0mprint\u001b[0m\u001b[0;34m(\u001b[0m\u001b[0ml1\u001b[0m\u001b[0;34m.\u001b[0m\u001b[0mmax\u001b[0m\u001b[0;34m(\u001b[0m\u001b[0;34m)\u001b[0m\u001b[0;34m)\u001b[0m\u001b[0;34m\u001b[0m\u001b[0;34m\u001b[0m\u001b[0m\n\u001b[0;32m---> 17\u001b[0;31m \u001b[0mout\u001b[0m \u001b[0;34m=\u001b[0m \u001b[0mmodel\u001b[0m\u001b[0;34m(\u001b[0m\u001b[0ml1\u001b[0m\u001b[0;34m)\u001b[0m\u001b[0;34m\u001b[0m\u001b[0;34m\u001b[0m\u001b[0m\n\u001b[0m\u001b[1;32m     18\u001b[0m \u001b[0;34m\u001b[0m\u001b[0m\n\u001b[1;32m     19\u001b[0m \u001b[0mprint\u001b[0m\u001b[0;34m(\u001b[0m\u001b[0mout\u001b[0m\u001b[0;34m.\u001b[0m\u001b[0mshape\u001b[0m\u001b[0;34m)\u001b[0m\u001b[0;34m\u001b[0m\u001b[0;34m\u001b[0m\u001b[0m\n",
      "\u001b[0;31mNameError\u001b[0m: name 'model' is not defined"
     ]
    }
   ],
   "source": [
    "from __future__ import print_function\n",
    "import argparse\n",
    "import torch\n",
    "from torchvision.transforms import ToTensor\n",
    "from torch.utils import data as data\n",
    "import numpy as np\n",
    "# validation_dataset = FITSDataset(\"/home/mhabeeb2/SR/examples/super_resolution/HMI.fits/validation\", input_transform(),target_transform(),(1024,1024))\n",
    "# validation_data_loader = data.DataLoader(validation_dataset, batch_size=1)\n",
    "\n",
    "validation_dataset = \"/home/mhabeeb2/SR/examples/super_resolution/HMI.fits/validation\"\n",
    "#model = netG\n",
    "validation_dataset = SuperResolve(validation_dataset, input_transform())\n",
    "validation_data_loader = data.DataLoader(validation_dataset, batch_size=2)\n",
    "for i, l1 in enumerate(validation_data_loader):\n",
    "    print(l1.min())\n",
    "    print(l1.max())\n",
    "out = model(l1)\n",
    "\n",
    "print(out.shape)\n",
    "print(out.max())\n",
    "denormalize = out*1500\n",
    "print(denormalize.min())\n",
    "print(denormalize.max())"
   ]
  },
  {
   "cell_type": "markdown",
   "metadata": {},
   "source": [
    "# Visualizations"
   ]
  },
  {
   "cell_type": "code",
   "execution_count": 17,
   "metadata": {},
   "outputs": [
    {
     "ename": "NameError",
     "evalue": "name 'denormalize' is not defined",
     "output_type": "error",
     "traceback": [
      "\u001b[0;31m---------------------------------------------------------------------------\u001b[0m",
      "\u001b[0;31mNameError\u001b[0m                                 Traceback (most recent call last)",
      "\u001b[0;32m<ipython-input-17-6663aadb89a0>\u001b[0m in \u001b[0;36m<module>\u001b[0;34m\u001b[0m\n\u001b[1;32m      3\u001b[0m \u001b[0mfile\u001b[0m \u001b[0;34m=\u001b[0m \u001b[0mfits\u001b[0m\u001b[0;34m.\u001b[0m\u001b[0mopen\u001b[0m\u001b[0;34m(\u001b[0m\u001b[0mfile_name\u001b[0m\u001b[0;34m)\u001b[0m\u001b[0;34m\u001b[0m\u001b[0;34m\u001b[0m\u001b[0m\n\u001b[1;32m      4\u001b[0m \u001b[0minitial\u001b[0m \u001b[0;34m=\u001b[0m \u001b[0mfile\u001b[0m\u001b[0;34m[\u001b[0m\u001b[0;36m0\u001b[0m\u001b[0;34m]\u001b[0m\u001b[0;34m.\u001b[0m\u001b[0mdata\u001b[0m\u001b[0;34m\u001b[0m\u001b[0;34m\u001b[0m\u001b[0m\n\u001b[0;32m----> 5\u001b[0;31m \u001b[0mfinal\u001b[0m\u001b[0;34m=\u001b[0m\u001b[0mdenormalize\u001b[0m\u001b[0;34m[\u001b[0m\u001b[0;36m0\u001b[0m\u001b[0;34m]\u001b[0m\u001b[0;34m[\u001b[0m\u001b[0;36m0\u001b[0m\u001b[0;34m]\u001b[0m\u001b[0;34m.\u001b[0m\u001b[0mdetach\u001b[0m\u001b[0;34m(\u001b[0m\u001b[0;34m)\u001b[0m\u001b[0;34m.\u001b[0m\u001b[0mnumpy\u001b[0m\u001b[0;34m(\u001b[0m\u001b[0;34m)\u001b[0m\u001b[0;34m\u001b[0m\u001b[0;34m\u001b[0m\u001b[0m\n\u001b[0m",
      "\u001b[0;31mNameError\u001b[0m: name 'denormalize' is not defined"
     ]
    }
   ],
   "source": [
    "import matplotlib.pyplot as plt\n",
    "file_name = \"/home/mhabeeb2/SR/examples/super_resolution/HMI.fits/validation/1997.02.07_00:00:00_TAI.fits\"\n",
    "file = fits.open(file_name)\n",
    "initial = file[0].data\n",
    "final=denormalize[0][0].detach().numpy()"
   ]
  },
  {
   "cell_type": "code",
   "execution_count": null,
   "metadata": {},
   "outputs": [],
   "source": [
    "plt.imshow(initial, cmap='gray')\n",
    "plt.colorbar()"
   ]
  },
  {
   "cell_type": "code",
   "execution_count": null,
   "metadata": {},
   "outputs": [],
   "source": [
    "plt.imshow(final, cmap='gray')\n",
    "plt.colorbar()"
   ]
  },
  {
   "cell_type": "code",
   "execution_count": 19,
   "metadata": {},
   "outputs": [
    {
     "data": {
      "text/plain": [
       "<matplotlib.image.AxesImage at 0x7fd9dc2dd450>"
      ]
     },
     "execution_count": 19,
     "metadata": {},
     "output_type": "execute_result"
    },
    {
     "data": {
      "image/png": "[encoded data removed]",
      "text/plain": [
       "<Figure size 432x288 with 1 Axes>"
      ]
     },
     "metadata": {
      "needs_background": "light"
     },
     "output_type": "display_data"
    }
   ],
   "source": [
    "import matplotlib.pyplot as plt\n",
    "out_nn = out_nn*1500\n",
    "bicubic = out_nn[0][0].detach().numpy()\n",
    "plt.imshow(bicubic, cmap='gray')"
   ]
  },
  {
   "cell_type": "code",
   "execution_count": 18,
   "metadata": {},
   "outputs": [
    {
     "name": "stderr",
     "output_type": "stream",
     "text": [
      "WARNING: AstropyDeprecationWarning: \"clobber\" was deprecated in version 2.0 and will be removed in a future version. Use argument \"overwrite\" instead. [warnings]\n"
     ]
    }
   ],
   "source": [
    "outfile = 'Bicubic_2k_clip.fits'\n",
    "hdu = fits.PrimaryHDU(bicubic)\n",
    "hdu.writeto(outfile, clobber=True)"
   ]
  }
 ],
 "metadata": {
  "kernelspec": {
   "display_name": "Python 3",
   "language": "python",
   "name": "python3"
  },
  "language_info": {
   "codemirror_mode": {
    "name": "ipython",
    "version": 3
   },
   "file_extension": ".py",
   "mimetype": "text/x-python",
   "name": "python",
   "nbconvert_exporter": "python",
   "pygments_lexer": "ipython3",
   "version": "3.7.4"
  }
 },
 "nbformat": 4,
 "nbformat_minor": 4
}
